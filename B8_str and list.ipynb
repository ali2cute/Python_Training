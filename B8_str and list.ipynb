{
 "cells": [
  {
   "cell_type": "code",
   "execution_count": 28,
   "metadata": {},
   "outputs": [
    {
     "name": "stdout",
     "output_type": "stream",
     "text": [
      "crate a  print\n",
      "John Sean\n",
      "DELHI\n",
      "['calcutta']\n",
      "BOMBAY is the most expensive city in India\n",
      "['delhi', 'bombay', 'chennai', 'calcutta', ['bangalore', 'hyderabad']]\n"
     ]
    }
   ],
   "source": [
    "# string practice\n",
    "\n",
    "task = 'crate a  print'\n",
    "print(task)\n",
    "\n",
    "first = 'john'\n",
    "last = 'sean'\n",
    "full_name = f'{first} {last}'\n",
    "print(full_name.title())\n",
    "\n",
    "#playing with list\n",
    "\n",
    "metro = ['delhi','bombay','chennai','calcutta']\n",
    "print(metro[0].upper())\n",
    "print(metro[3].split())\n",
    "display = f'{metro[1].upper()} is the most expensive city in India'\n",
    "print(display)\n",
    "\n",
    "metro.append(['bangalore','hyderabad'])\n",
    "print(metro)"
   ]
  },
  {
   "cell_type": "code",
   "execution_count": null,
   "metadata": {},
   "outputs": [],
   "source": []
  }
 ],
 "metadata": {
  "kernelspec": {
   "display_name": "Python 3",
   "language": "python",
   "name": "python3"
  },
  "language_info": {
   "codemirror_mode": {
    "name": "ipython",
    "version": 3
   },
   "file_extension": ".py",
   "mimetype": "text/x-python",
   "name": "python",
   "nbconvert_exporter": "python",
   "pygments_lexer": "ipython3",
   "version": "3.7.5"
  }
 },
 "nbformat": 4,
 "nbformat_minor": 2
}
